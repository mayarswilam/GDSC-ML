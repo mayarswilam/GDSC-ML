{
  "nbformat": 4,
  "nbformat_minor": 0,
  "metadata": {
    "colab": {
      "private_outputs": true,
      "provenance": [],
      "authorship_tag": "ABX9TyMSjqUzBbQWAC+8+Kts3jQQ",
      "include_colab_link": true
    },
    "kernelspec": {
      "name": "python3",
      "display_name": "Python 3"
    },
    "language_info": {
      "name": "python"
    }
  },
  "cells": [
    {
      "cell_type": "markdown",
      "metadata": {
        "id": "view-in-github",
        "colab_type": "text"
      },
      "source": [
        "<a href=\"https://colab.research.google.com/github/mayarswilam/GDSC-ML/blob/main/Untitled19.ipynb\" target=\"_parent\"><img src=\"https://colab.research.google.com/assets/colab-badge.svg\" alt=\"Open In Colab\"/></a>"
      ]
    },
    {
      "cell_type": "code",
      "execution_count": null,
      "metadata": {
        "id": "E6otvftZ0b8C"
      },
      "outputs": [],
      "source": [
        "!pip install skillsnetwork\n",
        "import skillsnetwork"
      ]
    },
    {
      "cell_type": "code",
      "source": [
        "def warn(*args, **kwargs):\n",
        "    pass\n",
        "import warnings\n",
        "warnings.warn = warn"
      ],
      "metadata": {
        "id": "AiTr5oh30jwO"
      },
      "execution_count": null,
      "outputs": []
    },
    {
      "cell_type": "code",
      "source": [
        "import skillsnetwork\n",
        "import pandas as pd\n",
        "import numpy as np\n",
        "\n",
        "import matplotlib.pyplot as plt\n",
        "%matplotlib inline\n",
        "import seaborn as sns\n",
        "import plotly.express as px\n",
        "\n",
        "from sklearn.preprocessing import StandardScaler\n",
        "from sklearn.decomposition import PCA"
      ],
      "metadata": {
        "id": "SOgvBQEZ0zjD"
      },
      "execution_count": null,
      "outputs": []
    },
    {
      "cell_type": "code",
      "source": [
        "URL = 'https://cf-courses-data.s3.us.cloud-object-storage.appdomain.cloud/IBM-ML0232EN-SkillsNetwork/asset/airlines_data.xlsx'\n",
        "\n",
        "await skillsnetwork.download_dataset(URL)\n",
        "data = pd.read_excel('airlines_data.xlsx')\n",
        "\n",
        "data.head()"
      ],
      "metadata": {
        "id": "kzI8lHhy09sN"
      },
      "execution_count": null,
      "outputs": []
    },
    {
      "cell_type": "code",
      "source": [
        "data.info()"
      ],
      "metadata": {
        "id": "q5J5zGli1FPC"
      },
      "execution_count": null,
      "outputs": []
    },
    {
      "cell_type": "code",
      "source": [
        "data.describe()"
      ],
      "metadata": {
        "id": "hhcNVwVh1LvL"
      },
      "execution_count": null,
      "outputs": []
    },
    {
      "cell_type": "code",
      "source": [
        "data.isnull().sum()"
      ],
      "metadata": {
        "id": "8KGjNmqM1QaT"
      },
      "execution_count": null,
      "outputs": []
    },
    {
      "cell_type": "code",
      "source": [
        "data = data.fillna(method='ffill')"
      ],
      "metadata": {
        "id": "EgyLfYBT4fnY"
      },
      "execution_count": null,
      "outputs": []
    },
    {
      "cell_type": "code",
      "source": [
        "data['Airline'].unique().tolist()"
      ],
      "metadata": {
        "id": "r0KpL6ld4rDG"
      },
      "execution_count": null,
      "outputs": []
    },
    {
      "cell_type": "code",
      "source": [
        "data['Airline'] = np.where(data['Airline']=='Vistara Premium economy', 'Vistara', data['Airline'])\n",
        "data['Airline'] = np.where(data['Airline']=='Jet Airways Business', 'Jet Airways', data['Airline'])"
      ],
      "metadata": {
        "id": "j5bCS-yU4yM4"
      },
      "execution_count": null,
      "outputs": []
    },
    {
      "cell_type": "code",
      "source": [
        "data['Airline'] = np.where(data['Airline']=='Multiple carriers Premium economy', 'Multiple carriers', data['Airline'])\n",
        "data['Airline'].unique().tolist()\n"
      ],
      "metadata": {
        "id": "szNStSwy448S"
      },
      "execution_count": null,
      "outputs": []
    },
    {
      "cell_type": "code",
      "source": [
        "data1 = pd.get_dummies(data=data, columns = ['Airline', 'Source', 'Destination'])"
      ],
      "metadata": {
        "id": "gPdE7ukl5Ute"
      },
      "execution_count": null,
      "outputs": []
    },
    {
      "cell_type": "code",
      "source": [
        "data1.head()"
      ],
      "metadata": {
        "id": "5dDWlh_g5V-X"
      },
      "execution_count": null,
      "outputs": []
    },
    {
      "cell_type": "code",
      "source": [
        "data.shape"
      ],
      "metadata": {
        "id": "2_XtCz195ZK7"
      },
      "execution_count": null,
      "outputs": []
    },
    {
      "cell_type": "code",
      "source": [
        "data1.shape"
      ],
      "metadata": {
        "id": "S30CQujn5caX"
      },
      "execution_count": null,
      "outputs": []
    },
    {
      "cell_type": "code",
      "source": [
        "data[\"Total_Stops\"].value_counts()"
      ],
      "metadata": {
        "id": "mYU1Rj-I5f0B"
      },
      "execution_count": null,
      "outputs": []
    },
    {
      "cell_type": "code",
      "source": [
        "data1.replace({\"non-stop\":0,\"1 stop\":1,\"2 stops\":2,\"3 stops\":3,\"4 stops\":4},inplace=True)\n",
        "data1.head()"
      ],
      "metadata": {
        "id": "-mbcbcQ85qVy"
      },
      "execution_count": null,
      "outputs": []
    },
    {
      "cell_type": "code",
      "source": [
        "duration = list(data1['Duration'])\n",
        "for i in range(len(duration)) :\n",
        "    if len(duration[i].split()) != 2:\n",
        "        if 'h' in duration[i] :\n",
        "            duration[i] = duration[i].strip() + ' 0m'\n",
        "        elif 'm' in duration[i] :\n",
        "            duration[i] = '0h {}'.format(duration[i].strip())\n",
        "dur_hours = []\n",
        "dur_minutes = []  \n",
        " \n",
        "for i in range(len(duration)) :\n",
        "    dur_hours.append(int(duration[i].split()[0][:-1]))\n",
        "    dur_minutes.append(int(duration[i].split()[1][:-1]))\n",
        "     \n",
        " \n",
        "data1['Duration_hours'] = dur_hours\n",
        "data1['Duration_minutes'] =dur_minutes\n",
        "data1.loc[:,'Duration_hours'] *= 60\n",
        "data1['Duration_Total_mins']= data1['Duration_hours']+data1['Duration_minutes']"
      ],
      "metadata": {
        "id": "wWpbOync5ww8"
      },
      "execution_count": null,
      "outputs": []
    },
    {
      "cell_type": "code",
      "source": [
        "data1.head()"
      ],
      "metadata": {
        "id": "HujsCpoO53mE"
      },
      "execution_count": null,
      "outputs": []
    },
    {
      "cell_type": "code",
      "source": [
        "data1[\"Dep_Hour\"]= pd.to_datetime(data1['Dep_Time']).dt.hour\n",
        "data1[\"Dep_Min\"]= pd.to_datetime(data1['Dep_Time']).dt.minute"
      ],
      "metadata": {
        "id": "b0_O-kOz5809"
      },
      "execution_count": null,
      "outputs": []
    },
    {
      "cell_type": "code",
      "source": [
        "data1[\"Arrival_Hour\"]= pd.to_datetime(data1['Arrival_Time']).dt.hour\n",
        "data1[\"Arrival_Min\"]= pd.to_datetime(data1['Arrival_Time']).dt.minute"
      ],
      "metadata": {
        "id": "KQ6PAg9g6Cmo"
      },
      "execution_count": null,
      "outputs": []
    },
    {
      "cell_type": "code",
      "source": [
        "data1['dep_timezone'] = pd.cut(data1.Dep_Hour, [0,6,12,18,24], labels=['Night','Morning','Afternoon','Evening'])\n",
        "data1['dep_timezone'] "
      ],
      "metadata": {
        "id": "T7yIeVaR6QIp"
      },
      "execution_count": null,
      "outputs": []
    },
    {
      "cell_type": "code",
      "source": [
        "data1[\"Arrival_Hour\"]= pd.to_datetime(data1['Arrival_Time']).dt.hour\n",
        "data1['arr_timezone'] = pd.cut(data1.Arrival_Hour, [0,6,12,18,24], labels=['Night','Morning','Afternoon','Evening'])"
      ],
      "metadata": {
        "id": "K13lwvKl6Vq-"
      },
      "execution_count": null,
      "outputs": []
    },
    {
      "cell_type": "code",
      "source": [
        "data1['Month']= pd.to_datetime(data1[\"Date_of_Journey\"], format=\"%d/%m/%Y\").dt.month"
      ],
      "metadata": {
        "id": "dcVdYrl66kRr"
      },
      "execution_count": null,
      "outputs": []
    },
    {
      "cell_type": "code",
      "source": [
        "data1['Day']= pd.to_datetime(data1[\"Date_of_Journey\"], format=\"%d/%m/%Y\").dt.day\n",
        "data1['Year']= pd.to_datetime(data1[\"Date_of_Journey\"], format=\"%d/%m/%Y\").dt.year"
      ],
      "metadata": {
        "id": "AlEa094p6pXP"
      },
      "execution_count": null,
      "outputs": []
    },
    {
      "cell_type": "code",
      "source": [
        "data1['day_of_week'] = pd.to_datetime(data1['Date_of_Journey']).dt.day_name()"
      ],
      "metadata": {
        "id": "ZY-8fCXv610K"
      },
      "execution_count": null,
      "outputs": []
    },
    {
      "cell_type": "code",
      "source": [
        "data1.columns"
      ],
      "metadata": {
        "id": "nDknCcYn67Zt"
      },
      "execution_count": null,
      "outputs": []
    },
    {
      "cell_type": "code",
      "source": [
        "new_data = data1.loc[:,['Total_Stops', 'Airline_Air Asia',\n",
        "       'Airline_Air India', 'Airline_GoAir', 'Airline_IndiGo',\n",
        "       'Airline_Jet Airways', 'Airline_Multiple carriers', 'Airline_SpiceJet',\n",
        "       'Airline_Trujet', 'Airline_Vistara', 'Source_Banglore',\n",
        "       'Source_Chennai', 'Source_Delhi', 'Source_Kolkata', 'Source_Mumbai',\n",
        "       'Destination_Banglore', 'Destination_Cochin', 'Destination_Delhi',\n",
        "       'Destination_Hyderabad', 'Destination_Kolkata', 'Destination_New Delhi',\n",
        "       'Duration_hours', 'Duration_minutes', 'Duration_Total_mins', 'Dep_Hour',\n",
        "       'Dep_Min', 'dep_timezone', 'Price']]"
      ],
      "metadata": {
        "id": "uUy3_IlB7CaU"
      },
      "execution_count": null,
      "outputs": []
    },
    {
      "cell_type": "code",
      "source": [
        "plt.figure(figsize=(18,18))\n",
        "sns.heatmap(new_data.corr(),annot=True,cmap='RdYlGn')\n",
        "\n",
        "plt.show()"
      ],
      "metadata": {
        "id": "9-65NI8M7Kdr"
      },
      "execution_count": null,
      "outputs": []
    },
    {
      "cell_type": "code",
      "source": [
        "features = new_data.corr()['Price'].sort_values()\n",
        "features"
      ],
      "metadata": {
        "id": "Eq8lsjSY7OLr"
      },
      "execution_count": null,
      "outputs": []
    },
    {
      "cell_type": "code",
      "source": [
        "features.plot(kind='bar',figsize=(10,8))"
      ],
      "metadata": {
        "id": "jMODlwLL7bLM"
      },
      "execution_count": null,
      "outputs": []
    },
    {
      "cell_type": "code",
      "source": [
        "x = data1.loc[:,['Total_Stops', 'Airline_Air Asia',\n",
        "       'Airline_Air India', 'Airline_GoAir', 'Airline_IndiGo',\n",
        "       'Airline_Jet Airways', 'Airline_Multiple carriers', 'Airline_SpiceJet',\n",
        "       'Airline_Trujet', 'Airline_Vistara', 'Source_Banglore',\n",
        "       'Source_Chennai', 'Source_Delhi', 'Source_Kolkata', 'Source_Mumbai',\n",
        "       'Destination_Banglore', 'Destination_Cochin', 'Destination_Delhi',\n",
        "       'Destination_Hyderabad', 'Destination_Kolkata', 'Destination_New Delhi',\n",
        "       'Duration_hours', 'Duration_minutes', 'Duration_Total_mins', 'Dep_Hour',\n",
        "       'Dep_Min']]"
      ],
      "metadata": {
        "id": "irt3elDg7fDv"
      },
      "execution_count": null,
      "outputs": []
    },
    {
      "cell_type": "code",
      "source": [
        "y= data1.Price"
      ],
      "metadata": {
        "id": "yyAW98Q_7lSZ"
      },
      "execution_count": null,
      "outputs": []
    },
    {
      "cell_type": "code",
      "source": [
        "scaler = StandardScaler()\n",
        "x=scaler.fit_transform(x.astype(np.float64))\n",
        "x"
      ],
      "metadata": {
        "id": "Rz0UecEz7oVB"
      },
      "execution_count": null,
      "outputs": []
    },
    {
      "cell_type": "code",
      "source": [
        "pca = PCA(n_components = 2)\n",
        "pca.fit_transform(x)"
      ],
      "metadata": {
        "id": "UqcrIxKb7sQP"
      },
      "execution_count": null,
      "outputs": []
    },
    {
      "cell_type": "code",
      "source": [
        "explained_variance=pca.explained_variance_ratio_\n",
        "explained_variance"
      ],
      "metadata": {
        "id": "9SPJF9URdPCK"
      },
      "execution_count": null,
      "outputs": []
    },
    {
      "cell_type": "code",
      "source": [
        "pca = PCA()\n",
        "pca.fit(x)\n",
        "cumsum = np.cumsum(pca.explained_variance_ratio_)\n",
        "d = np.argmax(cumsum >=0.95) + 1"
      ],
      "metadata": {
        "id": "30NFQz9rdbeE"
      },
      "execution_count": null,
      "outputs": []
    },
    {
      "cell_type": "code",
      "source": [
        "d"
      ],
      "metadata": {
        "id": "94giv5vzem-5"
      },
      "execution_count": null,
      "outputs": []
    },
    {
      "cell_type": "code",
      "source": [
        "pca = PCA(n_components=0.95)\n",
        "x_reduced = pca.fit_transform(x)"
      ],
      "metadata": {
        "id": "_93RBtsCerZH"
      },
      "execution_count": null,
      "outputs": []
    },
    {
      "cell_type": "code",
      "source": [
        "px.area(\n",
        "    x=range(1, cumsum.shape[0] + 1),\n",
        "    y=cumsum,\n",
        "    labels={\"x\": \"# Components\", \"y\": \"Explained Variance\"}\n",
        ")"
      ],
      "metadata": {
        "id": "eY58_Y8ievKM"
      },
      "execution_count": null,
      "outputs": []
    }
  ]
}