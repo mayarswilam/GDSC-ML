{
  "nbformat": 4,
  "nbformat_minor": 0,
  "metadata": {
    "colab": {
      "provenance": []
    },
    "kernelspec": {
      "name": "python3",
      "display_name": "Python 3"
    },
    "language_info": {
      "name": "python"
    }
  },
  "cells": [
    {
      "cell_type": "code",
      "source": [
        "#task1\n",
        "class Vehicle:  \n",
        "    def __init__(self):\n",
        "        self.name=\"mayar\"\n",
        "        self.max_speed = 500\n",
        "        self.mileage = 400\n",
        "\n",
        "x = Vehicle()\n",
        "print(x.name,x.max_speed, x.mileage)"
      ],
      "metadata": {
        "colab": {
          "base_uri": "https://localhost:8080/"
        },
        "id": "V0VgvRgb0PqS",
        "outputId": "94b40025-a4c1-4e75-d82e-84f2df511bc6"
      },
      "execution_count": 8,
      "outputs": [
        {
          "output_type": "stream",
          "name": "stdout",
          "text": [
            "mayar 500 400\n"
          ]
        }
      ]
    },
    {
      "cell_type": "code",
      "source": [
        "#task2\n",
        "class Vehicle:\n",
        "    def show_capacity(self,capacity):\n",
        "        self.capacity = capacity\n",
        "        print(self.capacity)\n",
        "x=Vehicle()     \n",
        "x.show_capacity(500)"
      ],
      "metadata": {
        "colab": {
          "base_uri": "https://localhost:8080/"
        },
        "id": "QuSAPqZy3Rdk",
        "outputId": "0fa2fecb-3eb8-440f-924a-441c4ef00491"
      },
      "execution_count": 9,
      "outputs": [
        {
          "output_type": "stream",
          "name": "stdout",
          "text": [
            "500\n"
          ]
        }
      ]
    },
    {
      "cell_type": "code",
      "source": [
        "#task3\n",
        "class Vehicle:\n",
        "    def __init__(self):\n",
        "        self.name = \"ketoo\"\n",
        "        self.max_speed = 20\n",
        "        self.mileage = 7\n",
        "    def show_capacity(self):\n",
        "        self.capacity = 7\n",
        "        print(self.capacity)\n",
        "\n",
        "class Bus(Vehicle):\n",
        "    def show_capacity(self,name,mileage):\n",
        "        self.name = name\n",
        "        self.mileage = mileage\n",
        "        print(\"Name:\",self.name,\"Mileage:\",self.mileage)\n",
        "b=Bus()\n",
        "b.show_capacity(\"Bus school\",40)\n"
      ],
      "metadata": {
        "colab": {
          "base_uri": "https://localhost:8080/"
        },
        "id": "rIEwAqDx4XaG",
        "outputId": "e2bf1cd2-6abe-4914-ada7-0b652c3d80d0"
      },
      "execution_count": 10,
      "outputs": [
        {
          "output_type": "stream",
          "name": "stdout",
          "text": [
            "Name: Bus school Mileage: 40\n"
          ]
        }
      ]
    },
    {
      "cell_type": "code",
      "source": [
        "#task4\n",
        "class Driver:\n",
        "    def __init__(self):\n",
        "        self.name=\"mayar\"\n",
        "        self.age=50\n",
        "        self.experience=10\n",
        "y=Driver()\n",
        "print(\"Name:\",y.name,\"Age:\",y.age,\"Experience:\",y.experience)"
      ],
      "metadata": {
        "colab": {
          "base_uri": "https://localhost:8080/"
        },
        "id": "Ej1_UKh845j3",
        "outputId": "f63bf034-69d6-4999-9461-f2f4d05e67aa"
      },
      "execution_count": 11,
      "outputs": [
        {
          "output_type": "stream",
          "name": "stdout",
          "text": [
            "Name: mayar Age: 50 Experience: 10\n"
          ]
        }
      ]
    },
    {
      "cell_type": "code",
      "source": [
        "#task6\n",
        "class Driver:\n",
        "    def __init__(self):\n",
        "        self.name=\"roma\"\n",
        "        self.age=60\n",
        "        self.experience=30\n",
        "    def driver_id(self,name,id):\n",
        "        self.id=id\n",
        "        self.name=name\n",
        "        print(\"Name:\",self.name,\"Id:\",self.id)\n",
        "g=Driver()\n",
        "g.driver_id(\"mohamed\",123)"
      ],
      "metadata": {
        "colab": {
          "base_uri": "https://localhost:8080/"
        },
        "id": "fpzUCgPb5LHP",
        "outputId": "c598e263-079b-4852-f255-4440edc74c92"
      },
      "execution_count": 12,
      "outputs": [
        {
          "output_type": "stream",
          "name": "stdout",
          "text": [
            "Name: mohamed Id: 123\n"
          ]
        }
      ]
    },
    {
      "cell_type": "code",
      "source": [
        "#task7\n",
        "class Vehicle:  \n",
        "    def __init__(self):\n",
        "        self.name=\"gold\"\n",
        "        self.max_speed = 600\n",
        "        self.mileage = 900\n",
        "class Bus(Vehicle):\n",
        "     max_number=70\n",
        "class Bus_driver(Bus,Vehicle):\n",
        "    Bus_id=235\n",
        "print(Bus_driver.Bus_id)"
      ],
      "metadata": {
        "colab": {
          "base_uri": "https://localhost:8080/"
        },
        "id": "B0c4eunA5o22",
        "outputId": "62ee2e3f-e500-4c99-eeb3-3d0315458ef9"
      },
      "execution_count": 13,
      "outputs": [
        {
          "output_type": "stream",
          "name": "stdout",
          "text": [
            "235\n"
          ]
        }
      ]
    }
  ]
}