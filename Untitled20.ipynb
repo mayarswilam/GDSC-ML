{
  "nbformat": 4,
  "nbformat_minor": 0,
  "metadata": {
    "colab": {
      "private_outputs": true,
      "provenance": [],
      "authorship_tag": "ABX9TyOY1xGF6Eydvy5abyUeBd/H",
      "include_colab_link": true
    },
    "kernelspec": {
      "name": "python3",
      "display_name": "Python 3"
    },
    "language_info": {
      "name": "python"
    }
  },
  "cells": [
    {
      "cell_type": "markdown",
      "metadata": {
        "id": "view-in-github",
        "colab_type": "text"
      },
      "source": [
        "<a href=\"https://colab.research.google.com/github/mayarswilam/GDSC-ML/blob/main/Untitled20.ipynb\" target=\"_parent\"><img src=\"https://colab.research.google.com/assets/colab-badge.svg\" alt=\"Open In Colab\"/></a>"
      ]
    },
    {
      "cell_type": "code",
      "execution_count": null,
      "metadata": {
        "id": "nKI5ykTztOUj"
      },
      "outputs": [],
      "source": [
        "!pip install skillsnetwork\n",
        "import skillsnetwork"
      ]
    },
    {
      "cell_type": "code",
      "source": [
        "%pylab inline\n",
        "\n",
        "%config InlineBackend.figure_formats = ['svg']\n",
        "\n",
        "import matplotlib.pyplot as plt\n",
        "import numpy as np\n",
        "from scipy import stats \n",
        "import math"
      ],
      "metadata": {
        "id": "Ta9uolUCtcA0"
      },
      "execution_count": null,
      "outputs": []
    },
    {
      "cell_type": "code",
      "source": [
        "from scipy.stats import binom\n",
        "prob = 1 - binom.cdf(56, 100, 0.5)\n",
        "\n",
        "print(str(round(prob*100, 1))+\"%\")"
      ],
      "metadata": {
        "id": "9Ycb60-ethA6"
      },
      "execution_count": null,
      "outputs": []
    },
    {
      "cell_type": "code",
      "source": [
        "from scipy.stats import binom\n",
        "print(binom.ppf(0.95,100,0.5)+1)"
      ],
      "metadata": {
        "id": "irIPHTbUtvta"
      },
      "execution_count": null,
      "outputs": []
    },
    {
      "cell_type": "code",
      "source": [
        "mu = 50\n",
        "variance = 10\n",
        "sigma = math.sqrt(variance)\n",
        "x = np.linspace(1, 100, 200)\n",
        "plt.plot(x,stats.norm.pdf(x, mu, sigma))\n",
        "\n",
        "mu = 60\n",
        "variance = 10\n",
        "sigma = math.sqrt(variance)\n",
        "x = np.linspace(1, 100, 200)\n",
        "plt.plot(x,stats.norm.pdf(x, mu, sigma))\n",
        "\n",
        "plt.xlim(30,80)\n",
        "plt.show()"
      ],
      "metadata": {
        "id": "0goaMrtCt2bK"
      },
      "execution_count": null,
      "outputs": []
    },
    {
      "cell_type": "code",
      "source": [
        "print (1 - binom.cdf(57, 100, 0.5))\n",
        "print (binom.cdf(57, 100, 0.6))"
      ],
      "metadata": {
        "id": "hNItrlget8SE"
      },
      "execution_count": null,
      "outputs": []
    },
    {
      "cell_type": "code",
      "source": [
        "print (1 - binom.cdf(55, 100, 0.5))\n",
        "print (binom.cdf(54, 100, 0.6))"
      ],
      "metadata": {
        "id": "cpgLOwNnuCGU"
      },
      "execution_count": null,
      "outputs": []
    },
    {
      "cell_type": "code",
      "source": [
        "binom.ppf(0.95, 100, 0.5) #this is the inverse of the cdf functions above"
      ],
      "metadata": {
        "id": "3jFbvG7xuIGx"
      },
      "execution_count": null,
      "outputs": []
    },
    {
      "cell_type": "code",
      "source": [
        "print (1-binom.cdf(58, 100, 0.5))\n",
        "print (binom.cdf(58, 100, 0.6))"
      ],
      "metadata": {
        "id": "RhNbnAQEuNxE"
      },
      "execution_count": null,
      "outputs": []
    },
    {
      "cell_type": "code",
      "source": [
        "mu = 50\n",
        "variance = 1\n",
        "sigma = math.sqrt(variance)\n",
        "x = np.linspace(1, 100, 1000)\n",
        "plt.plot(x,stats.norm.pdf(x, mu, sigma))\n",
        "\n",
        "mu = 60\n",
        "variance = 1\n",
        "sigma = math.sqrt(variance)\n",
        "x = np.linspace(1, 100, 1000)\n",
        "plt.plot(x,stats.norm.pdf(x, mu, sigma))\n",
        "\n",
        "plt.xlim(45,65)\n",
        "plt.show()"
      ],
      "metadata": {
        "id": "O-x8sJshuUI2"
      },
      "execution_count": null,
      "outputs": []
    },
    {
      "cell_type": "code",
      "source": [
        "print (binom.ppf(0.95,1000,0.5))\n",
        "print (binom.ppf(0.05,1000,0.6))"
      ],
      "metadata": {
        "id": "NufSvz7vuakN"
      },
      "execution_count": null,
      "outputs": []
    },
    {
      "cell_type": "code",
      "source": [
        "print (1-binom.cdf(550, 1000, 0.5))\n",
        "print (binom.cdf(550, 1000, 0.6))"
      ],
      "metadata": {
        "id": "ezk0DZiSugUL"
      },
      "execution_count": null,
      "outputs": []
    }
  ]
}