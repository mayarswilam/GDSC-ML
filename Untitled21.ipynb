{
  "nbformat": 4,
  "nbformat_minor": 0,
  "metadata": {
    "colab": {
      "private_outputs": true,
      "provenance": [],
      "authorship_tag": "ABX9TyNm9itBiX/pJBLSIju3M8my",
      "include_colab_link": true
    },
    "kernelspec": {
      "name": "python3",
      "display_name": "Python 3"
    },
    "language_info": {
      "name": "python"
    }
  },
  "cells": [
    {
      "cell_type": "markdown",
      "metadata": {
        "id": "view-in-github",
        "colab_type": "text"
      },
      "source": [
        "<a href=\"https://colab.research.google.com/github/mayarswilam/GDSC-ML/blob/main/Untitled21.ipynb\" target=\"_parent\"><img src=\"https://colab.research.google.com/assets/colab-badge.svg\" alt=\"Open In Colab\"/></a>"
      ]
    },
    {
      "cell_type": "code",
      "execution_count": null,
      "metadata": {
        "id": "vzr8mZzEx9G5"
      },
      "outputs": [],
      "source": [
        "!pip install skillsnetwork\n",
        "import skillsnetwork"
      ]
    },
    {
      "cell_type": "code",
      "source": [
        "import warnings \n",
        "warnings.filterwarnings('ignore')"
      ],
      "metadata": {
        "id": "ey3CTucwx_oq"
      },
      "execution_count": null,
      "outputs": []
    },
    {
      "cell_type": "code",
      "source": [
        "import skillsnetwork\n",
        "\n",
        "import pandas as pd\n",
        "import numpy as np\n",
        "\n",
        "import matplotlib.pyplot as plt\n",
        "%matplotlib inline\n",
        "import seaborn as sns\n",
        "\n",
        "import scipy.stats as stats \n",
        "from scipy.stats import chi2_contingency\n",
        "\n",
        "from statsmodels.formula.api import ols\n",
        "from statsmodels.stats.anova import anova_lm "
      ],
      "metadata": {
        "id": "XarAY7zfyFKk"
      },
      "execution_count": null,
      "outputs": []
    },
    {
      "cell_type": "code",
      "source": [
        "URL = 'https://cf-courses-data.s3.us.cloud-object-storage.appdomain.cloud/IBM-ML0232EN-SkillsNetwork/asset/insurance.csv'\n",
        "\n",
        "await skillsnetwork.download_dataset(URL)\n",
        "data = pd.read_csv('insurance.csv')\n",
        "\n",
        "data.head()"
      ],
      "metadata": {
        "id": "ir2bGQz5yJsj"
      },
      "execution_count": null,
      "outputs": []
    },
    {
      "cell_type": "code",
      "source": [
        "data.info()"
      ],
      "metadata": {
        "id": "J9zv1MwTyTBx"
      },
      "execution_count": null,
      "outputs": []
    },
    {
      "cell_type": "code",
      "source": [
        "data.describe()"
      ],
      "metadata": {
        "id": "_ahOnmvYyXyW"
      },
      "execution_count": null,
      "outputs": []
    },
    {
      "cell_type": "code",
      "source": [
        "female=data.loc[data.sex==\"female\"]\n",
        "male=data.loc[data.sex==\"male\"]"
      ],
      "metadata": {
        "id": "We6JePXMybvu"
      },
      "execution_count": null,
      "outputs": []
    },
    {
      "cell_type": "code",
      "source": [
        "f_bmi = female.bmi\n",
        "m_bmi = male.bmi"
      ],
      "metadata": {
        "id": "CXlj8V1syih8"
      },
      "execution_count": null,
      "outputs": []
    },
    {
      "cell_type": "code",
      "source": [
        "sns.distplot(f_bmi,color='green',hist=False)\n",
        "sns.distplot(m_bmi,color='red',hist=False)"
      ],
      "metadata": {
        "id": "_R99mRRCymmJ"
      },
      "execution_count": null,
      "outputs": []
    },
    {
      "cell_type": "code",
      "source": [
        "female.bmi.mean()"
      ],
      "metadata": {
        "id": "DXERQsnwyrK3"
      },
      "execution_count": null,
      "outputs": []
    },
    {
      "cell_type": "code",
      "source": [
        "male.bmi.mean()"
      ],
      "metadata": {
        "id": "1ZRkXzzjyvIw"
      },
      "execution_count": null,
      "outputs": []
    },
    {
      "cell_type": "code",
      "source": [
        "alpha=0.05\n",
        "t_value1, p_value1 = stats.ttest_ind(m_bmi, f_bmi)\n",
        "print(\"t_value1 = \",t_value1, \", p_value1 = \", p_value1)"
      ],
      "metadata": {
        "id": "OEMk9lgxy3HT"
      },
      "execution_count": null,
      "outputs": []
    },
    {
      "cell_type": "code",
      "source": [
        "if p_value1 <alpha:\n",
        "    print(\"Conclusion: since p_value {} is less than alpha {} \". format (p_value1,alpha))\n",
        "    print(\"Reject the null hypothesis that there is no difference between bmi of females and bmi of males.\")\n",
        "    \n",
        "else:\n",
        "    print(\"Conclusion: since p_value {} is greater than alpha {} \". format (p_value1,alpha))\n",
        "    print(\"Fail to reject the null hypothesis that there is a difference between bmi of females and bmi of males.\")"
      ],
      "metadata": {
        "id": "O2K48nfay4vq"
      },
      "execution_count": null,
      "outputs": []
    },
    {
      "cell_type": "code",
      "source": [
        "smoker = data.loc[data.smoker==\"yes\"]\n",
        "smoker_char = smoker.charges\n",
        "sch_mean = smoker_char.mean()\n",
        "sch_mean"
      ],
      "metadata": {
        "id": "iRNFP2Rsy9NL"
      },
      "execution_count": null,
      "outputs": []
    },
    {
      "cell_type": "code",
      "source": [
        "nonsmoker = data.loc[data.smoker==\"no\"]\n",
        "nonsmoker_char = nonsmoker.charges"
      ],
      "metadata": {
        "id": "rT-_-ggTzDXW"
      },
      "execution_count": null,
      "outputs": []
    },
    {
      "cell_type": "code",
      "source": [
        "nsch_mean = nonsmoker_char.mean()\n",
        "nsch_mean\n"
      ],
      "metadata": {
        "id": "wryvBmKbzGwS"
      },
      "execution_count": null,
      "outputs": []
    },
    {
      "cell_type": "code",
      "source": [
        "sns.boxplot(x=data.charges,y=data.smoker,data=data).set(title=\"Fig:1 Smoker vs Charges\")"
      ],
      "metadata": {
        "id": "dXXCpweezUTS"
      },
      "execution_count": null,
      "outputs": []
    },
    {
      "cell_type": "code",
      "source": [
        "alpha=0.05\n",
        "t_val2, p_value2 = stats.ttest_ind(smoker_char, nonsmoker_char)\n",
        "p_value_onetail=p_value2/2\n",
        "print(\"t_value = {} , p_value ={} , p_value_onetail = {}\".format(t_val2, p_value2, p_value_onetail))"
      ],
      "metadata": {
        "id": "D4sPsPd0zajh"
      },
      "execution_count": null,
      "outputs": []
    },
    {
      "cell_type": "code",
      "source": [
        "female_children = female.loc[female['children']<=2]"
      ],
      "metadata": {
        "id": "OsZ-6lxHzkLx"
      },
      "execution_count": null,
      "outputs": []
    },
    {
      "cell_type": "code",
      "source": [
        "female_children.groupby([female_children.children]).mean().bmi"
      ],
      "metadata": {
        "id": "7v7oJ-Ig8fdX"
      },
      "execution_count": null,
      "outputs": []
    },
    {
      "cell_type": "code",
      "source": [
        "formula = 'bmi ~ C(children)'\n",
        "model = ols(formula, female_children).fit()\n",
        "aov_table = anova_lm(model)\n",
        "aov_table"
      ],
      "metadata": {
        "id": "Z49Q9rkh8jLx"
      },
      "execution_count": null,
      "outputs": []
    },
    {
      "cell_type": "code",
      "source": [
        "contingency= pd.crosstab(data.region, data.smoker)\n",
        "contingency"
      ],
      "metadata": {
        "id": "KPLulY0R8prm"
      },
      "execution_count": null,
      "outputs": []
    },
    {
      "cell_type": "code",
      "source": [
        " contingency.plot(kind='bar')"
      ],
      "metadata": {
        "id": "8dCQ3Zx58u4o"
      },
      "execution_count": null,
      "outputs": []
    },
    {
      "cell_type": "code",
      "source": [
        "chi2, p_val, dof, exp_freq = chi2_contingency(contingency, correction = False)\n",
        "print('chi-square statistic: {} , p_value: {} , degree of freedom: {} ,expected frequencies: {} '.format(chi2, p_val, dof, exp_freq))"
      ],
      "metadata": {
        "id": "LQdtDK5m8yp-"
      },
      "execution_count": null,
      "outputs": []
    }
  ]
}